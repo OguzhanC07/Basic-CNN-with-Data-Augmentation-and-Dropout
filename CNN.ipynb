{
 "cells": [
  {
   "cell_type": "markdown",
   "metadata": {},
   "source": [
    "# CNN için giriş, data augmentation ve drop out olayları\n",
    "## Kullandığım veriyi internetten kendim topladım.\n",
    "    Kullandığım veride 2 tür resim vardır. Gömlek ve kol saati. Data augmentation'u daha iyi görebilmek amacıyla her ikisinden de ayrı ayrı 200 adet resim buldum. Resimlerin hepsi google fotoğraflardan alınmıştır. Kullandığım verinin linki : https://drive.google.com/drive/folders/1BkI94CNRtbBdjmimxwkbnzJH7nbHbDX7?usp=sharing"
   ]
  },
  {
   "cell_type": "code",
   "execution_count": 1,
   "metadata": {
    "scrolled": true
   },
   "outputs": [
    {
     "name": "stderr",
     "output_type": "stream",
     "text": [
      "C:\\ProgramData\\Anaconda3\\envs\\py35\\lib\\site-packages\\h5py\\__init__.py:36: FutureWarning: Conversion of the second argument of issubdtype from `float` to `np.floating` is deprecated. In future, it will be treated as `np.float64 == np.dtype(float).type`.\n",
      "  from ._conv import register_converters as _register_converters\n",
      "Using TensorFlow backend.\n"
     ]
    }
   ],
   "source": [
    "import keras "
   ]
  },
  {
   "cell_type": "markdown",
   "metadata": {},
   "source": [
    "    İlk olarak keras'ı import ediyoruz."
   ]
  },
  {
   "cell_type": "code",
   "execution_count": 10,
   "metadata": {
    "scrolled": true
   },
   "outputs": [],
   "source": [
    "import os, shutil\n",
    "\n",
    "original_dataset_dir = '/Users/Oğuzhan/Desktop/project/birlesik/'\n",
    "\n",
    "base_dir='/Users/Oğuzhan/Desktop/project/ayirma'\n",
    "os.mkdir(base_dir)\n",
    "\n",
    "train_dir = os.path.join(base_dir, 'train')\n",
    "os.mkdir(train_dir)\n",
    "validation_dir = os.path.join(base_dir, 'validation')\n",
    "os.mkdir(validation_dir)\n",
    "test_dir = os.path.join(base_dir, 'test')\n",
    "os.mkdir(test_dir)\n",
    "##gereken klasörleri oluşturduk (train-test-validasyon)\n",
    "\n",
    "train_shoes_dir=os.path.join(train_dir,'shoes')\n",
    "os.mkdir(train_shoes_dir)\n",
    "\n",
    "train_watchs_dir=os.path.join(train_dir,'watchs')\n",
    "os.mkdir(train_watchs_dir)\n",
    "\n",
    "\n",
    "validation_shoes_dir=os.path.join(validation_dir,'shoes')\n",
    "os.mkdir(validation_shoes_dir)\n",
    "\n",
    "validation_watchs_dir=os.path.join(validation_dir,'watchs')\n",
    "os.mkdir(validation_watchs_dir)\n",
    "\n",
    "\n",
    "test_shoes_dir=os.path.join(test_dir,'shoes')\n",
    "os.mkdir(test_shoes_dir)\n",
    "\n",
    "test_watchs_dir=os.path.join(test_dir,'watchs')\n",
    "os.mkdir(test_watchs_dir)\n",
    "\n",
    "##Yukarıda üç klasör için shoes ve watchs(ayakkabı ve kol saati)\n",
    "## klasörleri oluşturduk\n",
    "\n",
    "fnames = ['shoes.{}.jpg'.format(i) for i in range(100)]\n",
    "for fname in fnames:\n",
    "    src = os.path.join(original_dataset_dir, fname)\n",
    "    dst = os.path.join(train_shoes_dir, fname)\n",
    "    shutil.copyfile(src, dst)\n",
    "\n",
    "fnames = ['shoes.{}.jpg'.format(i) for i in range(100, 150)]\n",
    "for fname in fnames:\n",
    "    src = os.path.join(original_dataset_dir, fname)\n",
    "    dst = os.path.join(validation_shoes_dir, fname)\n",
    "    shutil.copyfile(src, dst)\n",
    "    \n",
    "fnames = ['shoes.{}.jpg'.format(i) for i in range(150, 200)]\n",
    "for fname in fnames:\n",
    "    src = os.path.join(original_dataset_dir, fname)\n",
    "    dst = os.path.join(test_shoes_dir, fname)\n",
    "    shutil.copyfile(src, dst)\n",
    "\n",
    "## Yukarıda ise ayakkabılar için, train içine 100 adet resmi\n",
    "## diğer iki klasör içine ise 50-50 resmi kopyaladık\n",
    "    \n",
    "fnames = ['watchs.{}.jpg'.format(i) for i in range(100)]\n",
    "for fname in fnames:\n",
    "    src = os.path.join(original_dataset_dir, fname)\n",
    "    dst = os.path.join(train_watchs_dir, fname)\n",
    "    shutil.copyfile(src, dst)\n",
    "    \n",
    "    \n",
    "fnames = ['watchs.{}.jpg'.format(i) for i in range(100, 150)]\n",
    "for fname in fnames:\n",
    "    src = os.path.join(original_dataset_dir, fname)\n",
    "    dst = os.path.join(validation_watchs_dir, fname)\n",
    "    shutil.copyfile(src, dst)\n",
    "\n",
    "fnames = ['watchs.{}.jpg'.format(i) for i in range(150, 200)]\n",
    "for fname in fnames:\n",
    "    src = os.path.join(original_dataset_dir, fname)\n",
    "    dst = os.path.join(test_watchs_dir, fname)\n",
    "    shutil.copyfile(src, dst)\n",
    "    \n",
    "## Yukarıda ise kol saati içine train için 100 adet resmi\n",
    "## diğer iki klasör içine ise 50-50 resmi kopyaladık"
   ]
  },
  {
   "cell_type": "raw",
   "metadata": {},
   "source": [
    "    Yukarıda ilk olarak öncelikle 3 adet klasör oluşturuluyor. Train, test ve validation klasörlerini oluşturduktan sonra her 3 klasör için shoes ve watchs klasörleri oluşturuluyor."
   ]
  },
  {
   "cell_type": "code",
   "execution_count": 11,
   "metadata": {},
   "outputs": [
    {
     "name": "stdout",
     "output_type": "stream",
     "text": [
      "Train için ayrılan ayakkabı resmi: 100\n"
     ]
    }
   ],
   "source": [
    "print('Train için ayrılan ayakkabı resmi:', len(os.listdir(train_shoes_dir)))"
   ]
  },
  {
   "cell_type": "code",
   "execution_count": 12,
   "metadata": {},
   "outputs": [
    {
     "name": "stdout",
     "output_type": "stream",
     "text": [
      "Train için ayrılan kol saati resmi: 100\n"
     ]
    }
   ],
   "source": [
    "print('Train için ayrılan kol saati resmi:', len(os.listdir(train_watchs_dir)\n",
    "                                                ))"
   ]
  },
  {
   "cell_type": "code",
   "execution_count": 13,
   "metadata": {},
   "outputs": [
    {
     "name": "stdout",
     "output_type": "stream",
     "text": [
      "Validation için ayrılan ayakkabı resmi: 50\n"
     ]
    }
   ],
   "source": [
    "print('Validation için ayrılan ayakkabı resmi:', len(os.listdir(validation_shoes_dir)))"
   ]
  },
  {
   "cell_type": "code",
   "execution_count": 14,
   "metadata": {},
   "outputs": [
    {
     "name": "stdout",
     "output_type": "stream",
     "text": [
      "Validation için ayrılan kol saati resmi: 50\n"
     ]
    }
   ],
   "source": [
    "print('Validation için ayrılan kol saati resmi:', len(os.listdir(validation_watchs_dir)))"
   ]
  },
  {
   "cell_type": "code",
   "execution_count": 15,
   "metadata": {},
   "outputs": [
    {
     "name": "stdout",
     "output_type": "stream",
     "text": [
      "Test için ayrılan ayakkabı resmi: 50\n"
     ]
    }
   ],
   "source": [
    "print('Test için ayrılan ayakkabı resmi:', len(os.listdir(test_shoes_dir)))"
   ]
  },
  {
   "cell_type": "code",
   "execution_count": 16,
   "metadata": {},
   "outputs": [
    {
     "name": "stdout",
     "output_type": "stream",
     "text": [
      "Test için ayrılan kol saati resmi: 50\n"
     ]
    }
   ],
   "source": [
    "print('Test için ayrılan kol saati resmi:', len(os.listdir(test_watchs_dir)))"
   ]
  },
  {
   "cell_type": "markdown",
   "metadata": {},
   "source": [
    "# Katmanları oluşturma\n",
    "Öncelikle kullandığımız katman modelinde Conv2D ve MaxPooling2D kullanılmıştır. İlk layer'da 32 adet node ve giriş şeklini (width-height oranını) en-boy oranını ayarladık. Bu katman için maxpooling yaptıktan sonra diğer katmanda 64 node kullandık. Yine maxpooling yaptıktan sonra 128 node'lik iki katman oluşturduk ve bu matrisleri Flatten() ile düzleştirdik.\n",
    "\n",
    "Son olarak dense layer'ı ile tek hale getirdik."
   ]
  },
  {
   "cell_type": "code",
   "execution_count": 17,
   "metadata": {},
   "outputs": [],
   "source": [
    "from keras import layers\n",
    "from keras import models\n",
    "\n",
    "model = models.Sequential()\n",
    "model.add(layers.Conv2D(32, (3, 3), activation='relu',\n",
    "                        input_shape=(150, 150, 3)))\n",
    "model.add(layers.MaxPooling2D((2, 2)))\n",
    "model.add(layers.Conv2D(64, (3, 3), activation='relu'))\n",
    "model.add(layers.MaxPooling2D((2, 2)))\n",
    "model.add(layers.Conv2D(128, (3, 3), activation='relu'))\n",
    "model.add(layers.MaxPooling2D((2, 2)))\n",
    "model.add(layers.Conv2D(128, (3, 3), activation='relu'))\n",
    "model.add(layers.MaxPooling2D((2, 2)))\n",
    "model.add(layers.Flatten())\n",
    "model.add(layers.Dense(512, activation='relu'))\n",
    "model.add(layers.Dense(1, activation='sigmoid'))"
   ]
  },
  {
   "cell_type": "markdown",
   "metadata": {},
   "source": [
    "Modelimize bakalım."
   ]
  },
  {
   "cell_type": "code",
   "execution_count": 18,
   "metadata": {},
   "outputs": [
    {
     "name": "stdout",
     "output_type": "stream",
     "text": [
      "_________________________________________________________________\n",
      "Layer (type)                 Output Shape              Param #   \n",
      "=================================================================\n",
      "conv2d_1 (Conv2D)            (None, 148, 148, 32)      896       \n",
      "_________________________________________________________________\n",
      "max_pooling2d_1 (MaxPooling2 (None, 74, 74, 32)        0         \n",
      "_________________________________________________________________\n",
      "conv2d_2 (Conv2D)            (None, 72, 72, 64)        18496     \n",
      "_________________________________________________________________\n",
      "max_pooling2d_2 (MaxPooling2 (None, 36, 36, 64)        0         \n",
      "_________________________________________________________________\n",
      "conv2d_3 (Conv2D)            (None, 34, 34, 128)       73856     \n",
      "_________________________________________________________________\n",
      "max_pooling2d_3 (MaxPooling2 (None, 17, 17, 128)       0         \n",
      "_________________________________________________________________\n",
      "conv2d_4 (Conv2D)            (None, 15, 15, 128)       147584    \n",
      "_________________________________________________________________\n",
      "max_pooling2d_4 (MaxPooling2 (None, 7, 7, 128)         0         \n",
      "_________________________________________________________________\n",
      "flatten_1 (Flatten)          (None, 6272)              0         \n",
      "_________________________________________________________________\n",
      "dense_1 (Dense)              (None, 512)               3211776   \n",
      "_________________________________________________________________\n",
      "dense_2 (Dense)              (None, 1)                 513       \n",
      "=================================================================\n",
      "Total params: 3,453,121\n",
      "Trainable params: 3,453,121\n",
      "Non-trainable params: 0\n",
      "_________________________________________________________________\n"
     ]
    }
   ],
   "source": [
    "model.summary()"
   ]
  },
  {
   "cell_type": "code",
   "execution_count": 19,
   "metadata": {},
   "outputs": [],
   "source": [
    "from keras import optimizers\n",
    "\n",
    "model.compile(loss='binary_crossentropy',\n",
    "              optimizer=optimizers.RMSprop(lr=1e-4),\n",
    "              metrics=['acc'])"
   ]
  },
  {
   "cell_type": "markdown",
   "metadata": {},
   "source": [
    "# Data Preprocessing\n",
    "Burada dosyalarımızdaki resimleri okuruz. Jpeg olduğu için onları önce rgb pixellerine (yani 0 ile 255) arasında gömerek programın işini daha da kolaylaştırırız. Bu sayıları 0 ile 1 arasında sıkıştırarak programın daha iyi sonuç bulmasını sağlarız(rescale). Bunun için keras.preprocessing.image kullanırız."
   ]
  },
  {
   "cell_type": "code",
   "execution_count": 20,
   "metadata": {},
   "outputs": [
    {
     "name": "stdout",
     "output_type": "stream",
     "text": [
      "Found 200 images belonging to 2 classes.\n",
      "Found 100 images belonging to 2 classes.\n"
     ]
    }
   ],
   "source": [
    "from keras.preprocessing.image import ImageDataGenerator\n",
    "\n",
    "train_datagen=ImageDataGenerator(rescale=1./255)\n",
    "test_datagen=ImageDataGenerator(rescale=1./255)\n",
    "\n",
    "train_generator= train_datagen.flow_from_directory(\n",
    "    ## Train klasörünün yerini gösteriyoruz\n",
    "    train_dir,\n",
    "    ## Tüm resimleri 150x150 yapıyoruz\n",
    "    target_size=(150,150),\n",
    "    batch_size=20,\n",
    "    class_mode='binary')\n",
    "\n",
    "validation_generator=test_datagen.flow_from_directory(\n",
    "    validation_dir,\n",
    "    target_size=(150,150),\n",
    "    batch_size=20,\n",
    "    class_mode='binary')"
   ]
  },
  {
   "cell_type": "markdown",
   "metadata": {},
   "source": [
    "# Modelimizi Eğitme (30 epoch)\n",
    "Modelimizde öncelikle 30 epoch ile eğitim yapacağız. Her epoch için 100 adım vardır. Validation adımı ise 50 adımdır."
   ]
  },
  {
   "cell_type": "code",
   "execution_count": 21,
   "metadata": {},
   "outputs": [
    {
     "name": "stdout",
     "output_type": "stream",
     "text": [
      "Epoch 1/30\n",
      "100/100 [==============================] - 151s 2s/step - loss: 0.3019 - acc: 0.8565 - val_loss: 0.2065 - val_acc: 0.9200\n",
      "Epoch 2/30\n",
      "100/100 [==============================] - 90s 899ms/step - loss: 0.1197 - acc: 0.9540 - val_loss: 0.2494 - val_acc: 0.9000\n",
      "Epoch 3/30\n",
      "100/100 [==============================] - 90s 895ms/step - loss: 0.0552 - acc: 0.9835 - val_loss: 0.1993 - val_acc: 0.9200\n",
      "Epoch 4/30\n",
      "100/100 [==============================] - 91s 908ms/step - loss: 0.0231 - acc: 0.9935 - val_loss: 0.5308 - val_acc: 0.8800\n",
      "Epoch 5/30\n",
      "100/100 [==============================] - 90s 903ms/step - loss: 0.0156 - acc: 0.9950 - val_loss: 0.2311 - val_acc: 0.9200\n",
      "Epoch 6/30\n",
      "100/100 [==============================] - 94s 939ms/step - loss: 0.0044 - acc: 0.9990 - val_loss: 0.2497 - val_acc: 0.9300\n",
      "Epoch 7/30\n",
      "100/100 [==============================] - 88s 881ms/step - loss: 0.0086 - acc: 0.9975 - val_loss: 0.2680 - val_acc: 0.9300\n",
      "Epoch 8/30\n",
      "100/100 [==============================] - 86s 857ms/step - loss: 0.0039 - acc: 0.9990 - val_loss: 0.3340 - val_acc: 0.9100\n",
      "Epoch 9/30\n",
      "100/100 [==============================] - 86s 859ms/step - loss: 5.6502e-05 - acc: 1.0000 - val_loss: 0.3665 - val_acc: 0.9200\n",
      "Epoch 10/30\n",
      "100/100 [==============================] - 90s 903ms/step - loss: 0.0196 - acc: 0.9970 - val_loss: 0.3631 - val_acc: 0.9200\n",
      "Epoch 11/30\n",
      "100/100 [==============================] - 91s 907ms/step - loss: 0.0036 - acc: 0.9980 - val_loss: 0.3382 - val_acc: 0.9300\n",
      "Epoch 12/30\n",
      "100/100 [==============================] - 91s 914ms/step - loss: 8.1834e-06 - acc: 1.0000 - val_loss: 0.4198 - val_acc: 0.9300\n",
      "Epoch 13/30\n",
      "100/100 [==============================] - 90s 898ms/step - loss: 0.0133 - acc: 0.9985 - val_loss: 0.4339 - val_acc: 0.9200\n",
      "Epoch 14/30\n",
      "100/100 [==============================] - 89s 892ms/step - loss: 2.5997e-06 - acc: 1.0000 - val_loss: 2.2587 - val_acc: 0.7700\n",
      "Epoch 15/30\n",
      "100/100 [==============================] - 88s 882ms/step - loss: 0.0030 - acc: 0.9990 - val_loss: 0.4261 - val_acc: 0.9200\n",
      "Epoch 16/30\n",
      "100/100 [==============================] - 90s 900ms/step - loss: 2.4789e-04 - acc: 1.0000 - val_loss: 1.7774 - val_acc: 0.8200\n",
      "Epoch 17/30\n",
      "100/100 [==============================] - 93s 933ms/step - loss: 1.0496e-04 - acc: 1.0000 - val_loss: 0.5643 - val_acc: 0.9100\n",
      "Epoch 18/30\n",
      "100/100 [==============================] - 90s 902ms/step - loss: 0.0051 - acc: 0.9995 - val_loss: 0.6352 - val_acc: 0.9200\n",
      "Epoch 19/30\n",
      "100/100 [==============================] - 90s 897ms/step - loss: 1.2853e-05 - acc: 1.0000 - val_loss: 0.5034 - val_acc: 0.9300\n",
      "Epoch 20/30\n",
      "100/100 [==============================] - 88s 879ms/step - loss: 4.5681e-07 - acc: 1.0000 - val_loss: 0.5487 - val_acc: 0.9200\n",
      "Epoch 21/30\n",
      "100/100 [==============================] - 89s 887ms/step - loss: 1.2887e-07 - acc: 1.0000 - val_loss: 0.5628 - val_acc: 0.9300\n",
      "Epoch 22/30\n",
      "100/100 [==============================] - 87s 866ms/step - loss: 1.1244e-07 - acc: 1.0000 - val_loss: 0.5770 - val_acc: 0.9200\n",
      "Epoch 23/30\n",
      "100/100 [==============================] - 89s 890ms/step - loss: 1.1005e-07 - acc: 1.0000 - val_loss: 0.5787 - val_acc: 0.9200\n",
      "Epoch 24/30\n",
      "100/100 [==============================] - 93s 932ms/step - loss: 1.0960e-07 - acc: 1.0000 - val_loss: 0.5787 - val_acc: 0.9200\n",
      "Epoch 25/30\n",
      "100/100 [==============================] - 95s 947ms/step - loss: 1.0960e-07 - acc: 1.0000 - val_loss: 0.5787 - val_acc: 0.9200\n",
      "Epoch 26/30\n",
      "100/100 [==============================] - 91s 911ms/step - loss: 1.0960e-07 - acc: 1.0000 - val_loss: 0.5787 - val_acc: 0.9200\n",
      "Epoch 27/30\n",
      "100/100 [==============================] - 91s 914ms/step - loss: 1.0960e-07 - acc: 1.0000 - val_loss: 0.5787 - val_acc: 0.9200\n",
      "Epoch 28/30\n",
      "100/100 [==============================] - 89s 887ms/step - loss: 1.0960e-07 - acc: 1.0000 - val_loss: 0.5787 - val_acc: 0.9200\n",
      "Epoch 29/30\n",
      "100/100 [==============================] - 86s 865ms/step - loss: 1.0960e-07 - acc: 1.0000 - val_loss: 0.5787 - val_acc: 0.9200\n",
      "Epoch 30/30\n",
      "100/100 [==============================] - 87s 875ms/step - loss: 1.0960e-07 - acc: 1.0000 - val_loss: 0.5787 - val_acc: 0.9200\n"
     ]
    }
   ],
   "source": [
    "history = model.fit_generator(\n",
    "      train_generator,\n",
    "      steps_per_epoch=100,\n",
    "      epochs=30,\n",
    "      validation_data=validation_generator,\n",
    "      validation_steps=50)"
   ]
  },
  {
   "cell_type": "markdown",
   "metadata": {},
   "source": [
    "Modelimizi kaydedelim."
   ]
  },
  {
   "cell_type": "code",
   "execution_count": 22,
   "metadata": {},
   "outputs": [],
   "source": [
    "model.save('shoes_and_watchs_1.h5')"
   ]
  },
  {
   "cell_type": "markdown",
   "metadata": {},
   "source": [
    "# Model gösterimi\n",
    "Programımızın loss grafiğini ve accuracy grafiğine bakarak modelimizin uygun olup olmadığını yorumlayalım."
   ]
  },
  {
   "cell_type": "code",
   "execution_count": 26,
   "metadata": {},
   "outputs": [
    {
     "data": {
      "image/png": "[encoded data removed]",
      "text/plain": [
       "<Figure size 432x288 with 1 Axes>"
      ]
     },
     "metadata": {},
     "output_type": "display_data"
    },
    {
     "data": {
      "image/png": "[encoded data removed]",
      "text/plain": [
       "<Figure size 432x288 with 1 Axes>"
      ]
     },
     "metadata": {},
     "output_type": "display_data"
    }
   ],
   "source": [
    "import matplotlib.pyplot as plt\n",
    "\n",
    "acc = history.history['acc']\n",
    "val_acc = history.history['val_acc']\n",
    "loss = history.history['loss']\n",
    "val_loss = history.history['val_loss']\n",
    "\n",
    "epochs = range(len(acc))\n",
    "\n",
    "plt.plot(epochs, acc, 'bo', label='Training acc')\n",
    "plt.plot(epochs, val_acc, 'b', label='Validation acc')\n",
    "plt.title('Training and validation accuracy')\n",
    "plt.legend()\n",
    "\n",
    "plt.figure()\n",
    "\n",
    "plt.plot(epochs, loss, 'bo', label='Training loss')\n",
    "plt.plot(epochs, val_loss, 'b', label='Validation loss')\n",
    "plt.title('Training and validation loss')\n",
    "plt.legend()\n",
    "\n",
    "plt.show()"
   ]
  },
  {
   "cell_type": "markdown",
   "metadata": {},
   "source": [
    "Gördüğümüz gibi validation ve training loss'ları oldukça kötü seviyede. Bu durumda bu model gerçek dünyaya uyumlu olamaz ve işe yaramaz. Training accuracy gittikçe yükselirken (neredeyse 1 e geliyor.) yani ezberlerken (overfitting) validation accuracy pekte stabil bir hareket elde edememiştir. Aynı zamanda iki veride de training ve validation birbirinden çok uzakta. Bu durum modelin gerçekten de pek iyi olmadığını gösteriyor. İlk 3 ve 4. epochta birbirlerine yakınlarken diğerlerinde bir o kadar uzaktalar."
   ]
  }
 ],
 "metadata": {
  "kernelspec": {
   "display_name": "Python 3",
   "language": "python",
   "name": "python3"
  },
  "language_info": {
   "codemirror_mode": {
    "name": "ipython",
    "version": 3
   },
   "file_extension": ".py",
   "mimetype": "text/x-python",
   "name": "python",
   "nbconvert_exporter": "python",
   "pygments_lexer": "ipython3",
   "version": "3.5.5"
  }
 },
 "nbformat": 4,
 "nbformat_minor": 2
}
